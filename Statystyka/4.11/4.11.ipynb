{
 "cells": [
  {
   "cell_type": "code",
   "execution_count": 5,
   "id": "5351f122",
   "metadata": {},
   "outputs": [],
   "source": [
    "import pandas as pd"
   ]
  },
  {
   "cell_type": "code",
   "execution_count": 14,
   "id": "5c6f6f5d",
   "metadata": {},
   "outputs": [],
   "source": [
    "val = round(1/6, 2)\n",
    "d = {'Value':[1,2,3,4,5,6], 'Probability':[val, val, val, val, val,val]}\n",
    "df = pd.DataFrame(data=d)"
   ]
  },
  {
   "cell_type": "code",
   "execution_count": 15,
   "id": "bd6bb984",
   "metadata": {},
   "outputs": [
    {
     "data": {
      "text/html": [
       "<div>\n",
       "<style scoped>\n",
       "    .dataframe tbody tr th:only-of-type {\n",
       "        vertical-align: middle;\n",
       "    }\n",
       "\n",
       "    .dataframe tbody tr th {\n",
       "        vertical-align: top;\n",
       "    }\n",
       "\n",
       "    .dataframe thead th {\n",
       "        text-align: right;\n",
       "    }\n",
       "</style>\n",
       "<table border=\"1\" class=\"dataframe\">\n",
       "  <thead>\n",
       "    <tr style=\"text-align: right;\">\n",
       "      <th></th>\n",
       "      <th>Value</th>\n",
       "      <th>Probability</th>\n",
       "    </tr>\n",
       "  </thead>\n",
       "  <tbody>\n",
       "    <tr>\n",
       "      <th>0</th>\n",
       "      <td>1</td>\n",
       "      <td>0.17</td>\n",
       "    </tr>\n",
       "    <tr>\n",
       "      <th>1</th>\n",
       "      <td>2</td>\n",
       "      <td>0.17</td>\n",
       "    </tr>\n",
       "    <tr>\n",
       "      <th>2</th>\n",
       "      <td>3</td>\n",
       "      <td>0.17</td>\n",
       "    </tr>\n",
       "    <tr>\n",
       "      <th>3</th>\n",
       "      <td>4</td>\n",
       "      <td>0.17</td>\n",
       "    </tr>\n",
       "    <tr>\n",
       "      <th>4</th>\n",
       "      <td>5</td>\n",
       "      <td>0.17</td>\n",
       "    </tr>\n",
       "    <tr>\n",
       "      <th>5</th>\n",
       "      <td>6</td>\n",
       "      <td>0.17</td>\n",
       "    </tr>\n",
       "  </tbody>\n",
       "</table>\n",
       "</div>"
      ],
      "text/plain": [
       "   Value  Probability\n",
       "0      1         0.17\n",
       "1      2         0.17\n",
       "2      3         0.17\n",
       "3      4         0.17\n",
       "4      5         0.17\n",
       "5      6         0.17"
      ]
     },
     "execution_count": 15,
     "metadata": {},
     "output_type": "execute_result"
    }
   ],
   "source": [
    "df"
   ]
  },
  {
   "cell_type": "code",
   "execution_count": 16,
   "id": "7432b02a",
   "metadata": {},
   "outputs": [
    {
     "data": {
      "text/plain": [
       "Value          3.50\n",
       "Probability    0.17\n",
       "dtype: float64"
      ]
     },
     "execution_count": 16,
     "metadata": {},
     "output_type": "execute_result"
    }
   ],
   "source": [
    "df.mean()"
   ]
  },
  {
   "cell_type": "code",
   "execution_count": 17,
   "id": "3393a951",
   "metadata": {},
   "outputs": [
    {
     "data": {
      "text/plain": [
       "Value          1.870829\n",
       "Probability    0.000000\n",
       "dtype: float64"
      ]
     },
     "execution_count": 17,
     "metadata": {},
     "output_type": "execute_result"
    }
   ],
   "source": [
    "df.std()"
   ]
  },
  {
   "cell_type": "code",
   "execution_count": 18,
   "id": "b011a82f",
   "metadata": {},
   "outputs": [
    {
     "data": {
      "text/plain": [
       "Value          3.5\n",
       "Probability    0.0\n",
       "dtype: float64"
      ]
     },
     "execution_count": 18,
     "metadata": {},
     "output_type": "execute_result"
    }
   ],
   "source": [
    "df.var()"
   ]
  },
  {
   "cell_type": "code",
   "execution_count": 19,
   "id": "ddb14e90",
   "metadata": {},
   "outputs": [
    {
     "data": {
      "text/html": [
       "<div>\n",
       "<style scoped>\n",
       "    .dataframe tbody tr th:only-of-type {\n",
       "        vertical-align: middle;\n",
       "    }\n",
       "\n",
       "    .dataframe tbody tr th {\n",
       "        vertical-align: top;\n",
       "    }\n",
       "\n",
       "    .dataframe thead th {\n",
       "        text-align: right;\n",
       "    }\n",
       "</style>\n",
       "<table border=\"1\" class=\"dataframe\">\n",
       "  <thead>\n",
       "    <tr style=\"text-align: right;\">\n",
       "      <th></th>\n",
       "      <th>Value</th>\n",
       "      <th>Probability</th>\n",
       "    </tr>\n",
       "  </thead>\n",
       "  <tbody>\n",
       "    <tr>\n",
       "      <th>0</th>\n",
       "      <td>1</td>\n",
       "      <td>0.17</td>\n",
       "    </tr>\n",
       "    <tr>\n",
       "      <th>1</th>\n",
       "      <td>2</td>\n",
       "      <td>0.17</td>\n",
       "    </tr>\n",
       "    <tr>\n",
       "      <th>2</th>\n",
       "      <td>3</td>\n",
       "      <td>0.17</td>\n",
       "    </tr>\n",
       "    <tr>\n",
       "      <th>3</th>\n",
       "      <td>4</td>\n",
       "      <td>0.17</td>\n",
       "    </tr>\n",
       "    <tr>\n",
       "      <th>4</th>\n",
       "      <td>5</td>\n",
       "      <td>0.17</td>\n",
       "    </tr>\n",
       "    <tr>\n",
       "      <th>5</th>\n",
       "      <td>6</td>\n",
       "      <td>0.17</td>\n",
       "    </tr>\n",
       "  </tbody>\n",
       "</table>\n",
       "</div>"
      ],
      "text/plain": [
       "   Value  Probability\n",
       "0      1         0.17\n",
       "1      2         0.17\n",
       "2      3         0.17\n",
       "3      4         0.17\n",
       "4      5         0.17\n",
       "5      6         0.17"
      ]
     },
     "execution_count": 19,
     "metadata": {},
     "output_type": "execute_result"
    }
   ],
   "source": [
    "df.abs()"
   ]
  },
  {
   "cell_type": "code",
   "execution_count": 20,
   "id": "30d0065b",
   "metadata": {},
   "outputs": [
    {
     "data": {
      "text/plain": [
       "Value          6\n",
       "Probability    6\n",
       "dtype: int64"
      ]
     },
     "execution_count": 20,
     "metadata": {},
     "output_type": "execute_result"
    }
   ],
   "source": [
    "df.count()"
   ]
  },
  {
   "cell_type": "code",
   "execution_count": 22,
   "id": "4b115977",
   "metadata": {},
   "outputs": [
    {
     "data": {
      "text/plain": [
       "Value          1.00\n",
       "Probability    0.17\n",
       "dtype: float64"
      ]
     },
     "execution_count": 22,
     "metadata": {},
     "output_type": "execute_result"
    }
   ],
   "source": [
    "df.min()"
   ]
  },
  {
   "cell_type": "code",
   "execution_count": 23,
   "id": "15380847",
   "metadata": {},
   "outputs": [
    {
     "data": {
      "text/plain": [
       "Value          6.00\n",
       "Probability    0.17\n",
       "dtype: float64"
      ]
     },
     "execution_count": 23,
     "metadata": {},
     "output_type": "execute_result"
    }
   ],
   "source": [
    "df.max()"
   ]
  },
  {
   "cell_type": "code",
   "execution_count": 24,
   "id": "7d579df0",
   "metadata": {},
   "outputs": [
    {
     "data": {
      "text/html": [
       "<div>\n",
       "<style scoped>\n",
       "    .dataframe tbody tr th:only-of-type {\n",
       "        vertical-align: middle;\n",
       "    }\n",
       "\n",
       "    .dataframe tbody tr th {\n",
       "        vertical-align: top;\n",
       "    }\n",
       "\n",
       "    .dataframe thead th {\n",
       "        text-align: right;\n",
       "    }\n",
       "</style>\n",
       "<table border=\"1\" class=\"dataframe\">\n",
       "  <thead>\n",
       "    <tr style=\"text-align: right;\">\n",
       "      <th></th>\n",
       "      <th>Value</th>\n",
       "      <th>Probability</th>\n",
       "    </tr>\n",
       "  </thead>\n",
       "  <tbody>\n",
       "    <tr>\n",
       "      <th>count</th>\n",
       "      <td>6.000000</td>\n",
       "      <td>6.00</td>\n",
       "    </tr>\n",
       "    <tr>\n",
       "      <th>mean</th>\n",
       "      <td>3.500000</td>\n",
       "      <td>0.17</td>\n",
       "    </tr>\n",
       "    <tr>\n",
       "      <th>std</th>\n",
       "      <td>1.870829</td>\n",
       "      <td>0.00</td>\n",
       "    </tr>\n",
       "    <tr>\n",
       "      <th>min</th>\n",
       "      <td>1.000000</td>\n",
       "      <td>0.17</td>\n",
       "    </tr>\n",
       "    <tr>\n",
       "      <th>25%</th>\n",
       "      <td>2.250000</td>\n",
       "      <td>0.17</td>\n",
       "    </tr>\n",
       "    <tr>\n",
       "      <th>50%</th>\n",
       "      <td>3.500000</td>\n",
       "      <td>0.17</td>\n",
       "    </tr>\n",
       "    <tr>\n",
       "      <th>75%</th>\n",
       "      <td>4.750000</td>\n",
       "      <td>0.17</td>\n",
       "    </tr>\n",
       "    <tr>\n",
       "      <th>max</th>\n",
       "      <td>6.000000</td>\n",
       "      <td>0.17</td>\n",
       "    </tr>\n",
       "  </tbody>\n",
       "</table>\n",
       "</div>"
      ],
      "text/plain": [
       "          Value  Probability\n",
       "count  6.000000         6.00\n",
       "mean   3.500000         0.17\n",
       "std    1.870829         0.00\n",
       "min    1.000000         0.17\n",
       "25%    2.250000         0.17\n",
       "50%    3.500000         0.17\n",
       "75%    4.750000         0.17\n",
       "max    6.000000         0.17"
      ]
     },
     "execution_count": 24,
     "metadata": {},
     "output_type": "execute_result"
    }
   ],
   "source": [
    "df.describe()"
   ]
  },
  {
   "cell_type": "code",
   "execution_count": 26,
   "id": "774bf0fa",
   "metadata": {},
   "outputs": [],
   "source": [
    "import scipy.stats as scs\n",
    "p = 0.3\n",
    "data = scs.bernoulli.rvs(p, size=100)\n",
    "mean, var, skew, kurt = scs.bernoulli.stats(p, moments = 'mvsk')"
   ]
  },
  {
   "cell_type": "code",
   "execution_count": 34,
   "id": "55004ed2",
   "metadata": {},
   "outputs": [
    {
     "data": {
      "text/plain": [
       "array([0, 0, 0, 0, 1, 0, 0, 1, 0, 1, 1, 0, 0, 0, 0, 0, 0, 0, 0, 0, 0, 0,\n",
       "       0, 0, 0, 0, 0, 0, 0, 1, 0, 1, 1, 0, 0, 0, 0, 1, 0, 0, 0, 1, 0, 0,\n",
       "       0, 0, 0, 1, 0, 1, 0, 0, 0, 0, 1, 0, 0, 0, 0, 0, 1, 0, 0, 0, 0, 1,\n",
       "       0, 0, 0, 0, 0, 1, 0, 0, 0, 0, 0, 0, 0, 1, 1, 0, 0, 0, 1, 1, 1, 0,\n",
       "       1, 1, 0, 0, 0, 1, 0, 0, 1, 0, 0, 1])"
      ]
     },
     "execution_count": 34,
     "metadata": {},
     "output_type": "execute_result"
    }
   ],
   "source": [
    "data"
   ]
  },
  {
   "cell_type": "code",
   "execution_count": 35,
   "id": "28ca8e45",
   "metadata": {},
   "outputs": [
    {
     "name": "stdout",
     "output_type": "stream",
     "text": [
      "mean:0.3\n",
      "var: 0.21\n",
      "skew: 0.8728715609439694\n",
      "kurt: -1.2380952380952381\n"
     ]
    }
   ],
   "source": [
    "print(f\"mean:{mean}\\nvar: {var}\\nskew: {skew}\\nkurt: {kurt}\")"
   ]
  },
  {
   "cell_type": "code",
   "execution_count": 48,
   "id": "b7bbe84e",
   "metadata": {},
   "outputs": [],
   "source": [
    "from scipy.stats import binom\n",
    "n, p = 100, 0.3\n",
    "data2 = scs.binom.pmf(k,n,p)\n",
    "mean, var, skew, kurt = binom.stats(n, p, moments='mvsk')"
   ]
  },
  {
   "cell_type": "code",
   "execution_count": 42,
   "id": "88d7c168",
   "metadata": {},
   "outputs": [
    {
     "data": {
      "text/plain": [
       "2.9407332347710605e-13"
      ]
     },
     "execution_count": 42,
     "metadata": {},
     "output_type": "execute_result"
    }
   ],
   "source": [
    "data2"
   ]
  },
  {
   "cell_type": "code",
   "execution_count": 41,
   "id": "397c1988",
   "metadata": {},
   "outputs": [
    {
     "name": "stdout",
     "output_type": "stream",
     "text": [
      "mean:30.0\n",
      "var: 21.0\n",
      "skew: 0.08728715609439697\n",
      "kurt: -0.012380952380952371\n"
     ]
    }
   ],
   "source": [
    "print(f\"mean:{mean}\\nvar: {var}\\nskew: {skew}\\nkurt: {kurt}\")"
   ]
  },
  {
   "cell_type": "code",
   "execution_count": 54,
   "id": "3b777386",
   "metadata": {},
   "outputs": [
    {
     "name": "stdout",
     "output_type": "stream",
     "text": [
      "[1 4 0 1 3 2 0 2 1 4 0 0 4 3 0 2 3 1 0 2 1 0 1 1 1 3 2 4 1 2 2 1 2 0 5 4 2\n",
      " 2 3 3 1 3 2 1 3 2 4 5 1 1 2 3 0 3 3 0 3 4 3 1 2 1 1 4 2 2 4 4 1 0 2 1 3 3\n",
      " 4 1 5 2 0 1 0 0 4 3 0 0 5 1 4 1 1 2 1 0 2 1 0 2 5 1]\n",
      "poisson\n",
      "mean:2.0\n",
      "var: 2.0\n",
      "skew: 0.7071067811865476\n",
      "kurt: 0.5\n"
     ]
    }
   ],
   "source": [
    "datapoisson=scs.poisson.rvs(size=100,mu=2)\n",
    "print(datapoisson)\n",
    "mean, var, skew, kurt = scs.poisson.stats(mu=2,moments='mvsk')\n",
    "print('poisson')\n",
    "print(f\"mean:{mean}\\nvar: {var}\\nskew: {skew}\\nkurt: {kurt}\")"
   ]
  },
  {
   "cell_type": "code",
   "execution_count": 59,
   "id": "b6593dd6",
   "metadata": {},
   "outputs": [
    {
     "data": {
      "image/png": "[encoded data removed]",
      "text/plain": [
       "<Figure size 432x288 with 3 Axes>"
      ]
     },
     "metadata": {
      "needs_background": "light"
     },
     "output_type": "display_data"
    }
   ],
   "source": [
    "x1 = np.arange(scs.poisson.ppf(0.01, mu), scs.poisson.ppf(0.99, mu))\n",
    "rv = scs.poisson(mu)\n",
    "fig, (ax1, ax2, ax3) = plt.subplots(3)\n",
    "ax1.vlines(x1,0,rv.pmf(x1), colors='b', linestyles='-', lw=1, label='frozen pmf')\n",
    "ax1.legend(loc='best', frameon=False)\n",
    "\n",
    "x2 = np.arange(scs.binom.ppf(0.01,100,p),scs.binom.ppf(0.99,100,p))\n",
    "rv = scs.binom(100, p)\n",
    "\n",
    "ax2.vlines(x2,0, rv.pmf(x2), colors='k', linestyles='-', lw=1, label='frozen pmf')\n",
    "ax2.legend(loc='best', frameon=False)\n",
    "\n",
    "x3 = np.arange(scs.bernoulli.ppf(0.01, p), scs.bernoulli.ppf(0.99, p))\n",
    "rv = scs.bernoulli(p)\n",
    "ax3.vlines(x3, 0, rv.pmf(x3), colors='k', linestyles='-', lw=1,\n",
    "        label='frozen pmf')\n",
    "ax3.legend(loc='best', frameon=False)\n",
    "plt.show()"
   ]
  },
  {
   "cell_type": "code",
   "execution_count": 72,
   "id": "9343b1ff",
   "metadata": {},
   "outputs": [
    {
     "name": "stdout",
     "output_type": "stream",
     "text": [
      "[3.65615844e-05 4.87487792e-04 3.08742268e-03 1.23496907e-02\n",
      " 3.49907904e-02 7.46470195e-02 1.24411699e-01 1.65882266e-01\n",
      " 1.79705788e-01 1.59738478e-01 1.17141551e-01 7.09948791e-02\n",
      " 3.54974396e-02 1.45630521e-02 4.85435071e-03 1.29449352e-03\n",
      " 2.69686150e-04 4.23037099e-05 4.70041221e-06 3.29853488e-07]\n"
     ]
    }
   ],
   "source": [
    "import scipy\n",
    "from scipy.stats import binom\n",
    "n = 20\n",
    "p = 0.4\n",
    "k = np.arange(0,20)\n",
    "binomial = scipy.stats.binom.pmf(k,n,p)\n",
    "print(binomial)"
   ]
  },
  {
   "cell_type": "code",
   "execution_count": 73,
   "id": "fc56fd39",
   "metadata": {},
   "outputs": [
    {
     "name": "stdout",
     "output_type": "stream",
     "text": [
      "0.9999999890048847\n"
     ]
    }
   ],
   "source": [
    "print(sum(binomial))"
   ]
  },
  {
   "cell_type": "code",
   "execution_count": 79,
   "id": "100b43ba",
   "metadata": {},
   "outputs": [],
   "source": [
    "data3 = scs.norm.rvs(size=100,loc=0, scale=2)"
   ]
  },
  {
   "cell_type": "code",
   "execution_count": 89,
   "id": "f44ef83e",
   "metadata": {},
   "outputs": [
    {
     "name": "stdout",
     "output_type": "stream",
     "text": [
      "[-2.16305887  1.10443412 -1.07708708  1.02053687 -0.47629262 -0.98252109\n",
      " -0.5216127  -3.4354442   2.3268075   0.40196565 -0.22368148 -1.72896066\n",
      "  0.95918263 -2.44001939  0.77572044 -2.37483272 -3.35056066 -0.08515741\n",
      " -3.5407194   1.19149061 -1.64741688 -3.23076415  3.73072048  0.79975661\n",
      "  1.76501318 -0.70043137 -1.21537001  0.21672744 -0.70303701 -0.8186073\n",
      "  3.15304982  0.33511696  0.59796155 -2.4164357  -2.21556759 -2.32980819\n",
      " -0.22666355 -0.10666191 -2.44985635  0.89009049 -1.28696545 -0.58067011\n",
      " -1.5604951  -0.72272417 -0.66161294  1.53258122 -3.17133006  0.1025359\n",
      " -3.78104073  0.56165979  3.13137018  0.3043291  -1.3204875   2.0822085\n",
      " -3.04128822  1.09415432 -1.27919408  1.50947984 -1.2671988   1.14734733\n",
      " -0.72714719  0.71311909 -2.03534276 -2.42505978  1.6944763  -3.3280547\n",
      "  1.39857095 -0.80893319 -0.41660293  2.54200451  0.51811158 -0.13723421\n",
      " -0.99535982 -1.23126307 -0.19573303 -0.51241452  3.03768594  2.84645913\n",
      "  0.77558447 -0.31042195  1.22412453 -1.08367128  1.31426329 -0.57965752\n",
      "  0.67812283 -0.76738116 -3.40643556  2.12413973  0.16922145  2.74811023\n",
      "  0.193032   -3.5592124  -0.61216701 -3.40947896 -0.74809253 -1.78712003\n",
      "  2.48408153  2.24852569  1.20803927 -1.10379812]\n"
     ]
    }
   ],
   "source": [
    "print(data3)"
   ]
  },
  {
   "cell_type": "code",
   "execution_count": 88,
   "id": "2a00fcac",
   "metadata": {},
   "outputs": [
    {
     "name": "stdout",
     "output_type": "stream",
     "text": [
      "normal distribution\n",
      "mean:0.0\n",
      "var: 1.0\n",
      "skew: 0.0\n",
      "kurt: 0.0\n"
     ]
    }
   ],
   "source": [
    "from scipy.stats import norm\n",
    "mean, var, skew, kurt = norm.stats(moments='mvsk')\n",
    "print('normal distribution')\n",
    "print(f\"mean:{mean}\\nvar: {var}\\nskew: {skew}\\nkurt: {kurt}\")"
   ]
  },
  {
   "cell_type": "code",
   "execution_count": 90,
   "id": "dc2d4410",
   "metadata": {},
   "outputs": [
    {
     "name": "stdout",
     "output_type": "stream",
     "text": [
      "[ 7.06419260e-01  1.71454422e+01  4.49624871e+00  1.28574922e+01\n",
      "  6.73624948e+00  1.11734356e+01  9.37120035e+00  8.22033037e+00\n",
      "  3.94742725e+00  6.56430196e+00 -7.67627940e+00 -1.23964829e+01\n",
      " -1.91527931e+00 -5.14401626e+00  2.94250066e+00  1.84948610e+01\n",
      " -5.82734979e+00  7.97115822e+00 -7.46434856e-01  2.05269298e+01\n",
      " -5.91266141e+00  7.69882682e+00  2.19951619e+01  4.19969715e+00\n",
      "  1.05165672e+01  1.96629634e+01  5.56259432e+00 -1.26568731e+01\n",
      " -4.20221100e+00  7.86576140e+00  1.35966339e+01  2.90327614e+00\n",
      "  1.05135812e+01  1.64055210e+01  1.78538905e+00  1.29513881e+00\n",
      "  1.42719750e+01  3.10409556e+00  1.64115635e+01  5.95598121e+00\n",
      "  1.85767385e+00  1.07539750e+01  3.93155143e+00  7.22998374e+00\n",
      "  7.16275170e+00  5.02757999e+00  7.64232744e+00  5.88581367e+00\n",
      "  1.46907543e+01  8.69732836e+00 -1.38383906e+01  4.98454798e+00\n",
      "  3.76079768e+00  3.48350615e+01  4.24390785e+00  1.15818768e+01\n",
      "  1.42468755e+01  1.34745090e+00 -6.47412272e+00  8.13993982e+00\n",
      " -4.51611316e+00  9.62535786e+00 -8.86466831e+00 -8.19694502e+00\n",
      "  7.77302152e+00  8.06261109e+00 -4.78246061e+00 -5.14985074e+00\n",
      "  7.96831735e+00  2.71068745e+00  6.12111922e+00  5.14222270e+00\n",
      "  1.34979704e+01  4.69893298e+00  1.52460703e+01  9.27819562e+00\n",
      "  3.02421933e-01  1.92257598e+01 -6.88986280e+00 -5.53776139e-01\n",
      "  2.41912668e+01  9.96507254e+00 -1.12529693e+01  3.55582898e-01\n",
      "  2.11093492e+01 -6.14257954e+00  4.78871547e+00  1.73180830e+01\n",
      "  1.30484349e+01 -1.28347548e+01 -1.52127833e+00 -2.69656652e+00\n",
      "  8.13493023e-02  4.49724872e+00 -1.03101982e+01 -1.29342393e+01\n",
      "  1.32782261e+01  7.86694799e+00 -3.47254383e-02  1.37763750e+00]\n"
     ]
    }
   ],
   "source": [
    "data3 = scs.norm.rvs(size=100,loc=4, scale=11)\n",
    "print(data3)"
   ]
  },
  {
   "cell_type": "code",
   "execution_count": 91,
   "id": "1062aaa5",
   "metadata": {},
   "outputs": [
    {
     "name": "stdout",
     "output_type": "stream",
     "text": [
      "normal distribution\n",
      "mean:0.0\n",
      "var: 1.0\n",
      "skew: 0.0\n",
      "kurt: 0.0\n"
     ]
    }
   ],
   "source": [
    "mean, var, skew, kurt = norm.stats(moments='mvsk')\n",
    "print('normal distribution')\n",
    "print(f\"mean:{mean}\\nvar: {var}\\nskew: {skew}\\nkurt: {kurt}\")"
   ]
  },
  {
   "cell_type": "code",
   "execution_count": 92,
   "id": "c9ee84d9",
   "metadata": {},
   "outputs": [
    {
     "name": "stdout",
     "output_type": "stream",
     "text": [
      "[-2.16317394e+00 -2.13967547e+00 -2.11617701e+00 -2.09267855e+00\n",
      " -2.06918008e+00 -2.04568162e+00 -2.02218316e+00 -1.99868469e+00\n",
      " -1.97518623e+00 -1.95168777e+00 -1.92818930e+00 -1.90469084e+00\n",
      " -1.88119238e+00 -1.85769391e+00 -1.83419545e+00 -1.81069699e+00\n",
      " -1.78719852e+00 -1.76370006e+00 -1.74020160e+00 -1.71670313e+00\n",
      " -1.69320467e+00 -1.66970621e+00 -1.64620774e+00 -1.62270928e+00\n",
      " -1.59921082e+00 -1.57571235e+00 -1.55221389e+00 -1.52871543e+00\n",
      " -1.50521696e+00 -1.48171850e+00 -1.45822004e+00 -1.43472157e+00\n",
      " -1.41122311e+00 -1.38772465e+00 -1.36422618e+00 -1.34072772e+00\n",
      " -1.31722926e+00 -1.29373079e+00 -1.27023233e+00 -1.24673387e+00\n",
      " -1.22323540e+00 -1.19973694e+00 -1.17623848e+00 -1.15274001e+00\n",
      " -1.12924155e+00 -1.10574309e+00 -1.08224462e+00 -1.05874616e+00\n",
      " -1.03524770e+00 -1.01174923e+00 -9.88250768e-01 -9.64752305e-01\n",
      " -9.41253842e-01 -9.17755378e-01 -8.94256915e-01 -8.70758451e-01\n",
      " -8.47259988e-01 -8.23761525e-01 -8.00263061e-01 -7.76764598e-01\n",
      " -7.53266135e-01 -7.29767671e-01 -7.06269208e-01 -6.82770744e-01\n",
      " -6.59272281e-01 -6.35773818e-01 -6.12275354e-01 -5.88776891e-01\n",
      " -5.65278428e-01 -5.41779964e-01 -5.18281501e-01 -4.94783037e-01\n",
      " -4.71284574e-01 -4.47786111e-01 -4.24287647e-01 -4.00789184e-01\n",
      " -3.77290721e-01 -3.53792257e-01 -3.30293794e-01 -3.06795330e-01\n",
      " -2.83296867e-01 -2.59798404e-01 -2.36299940e-01 -2.12801477e-01\n",
      " -1.89303014e-01 -1.65804550e-01 -1.42306087e-01 -1.18807623e-01\n",
      " -9.53091601e-02 -7.18106967e-02 -4.83122333e-02 -2.48137700e-02\n",
      " -1.31530660e-03  2.21831568e-02  4.56816201e-02  6.91800835e-02\n",
      "  9.26785469e-02  1.16177010e-01  1.39675474e-01  1.63173937e-01]\n"
     ]
    },
    {
     "data": {
      "image/png": "[encoded data removed]",
      "text/plain": [
       "<Figure size 432x288 with 1 Axes>"
      ]
     },
     "metadata": {
      "needs_background": "light"
     },
     "output_type": "display_data"
    }
   ],
   "source": [
    "fig, ax = plt.subplots(1, 1)\n",
    "x = np.linspace(scs.norm.ppf(0.01,loc=-1,scale=0.5), scs.norm.ppf(0.99,loc=-1,scale=0.5), 100)\n",
    "print(x)\n",
    "ax.plot(x, scs.norm.pdf(x), 'r-', lw=6, alpha=0.3, label='Normalny -teoretyczny')\n",
    "rv = scs.norm(loc = -1, scale = 0.5)\n",
    "ax.plot(x, rv.pdf(x), 'k-', lw=3, label='Normalny – z próby')\n",
    "ax.legend(loc='best')\n",
    "plt.show()"
   ]
  },
  {
   "cell_type": "code",
   "execution_count": null,
   "id": "69f231f6",
   "metadata": {},
   "outputs": [],
   "source": []
  }
 ],
 "metadata": {
  "kernelspec": {
   "display_name": "Python 3 (ipykernel)",
   "language": "python",
   "name": "python3"
  },
  "language_info": {
   "codemirror_mode": {
    "name": "ipython",
    "version": 3
   },
   "file_extension": ".py",
   "mimetype": "text/x-python",
   "name": "python",
   "nbconvert_exporter": "python",
   "pygments_lexer": "ipython3",
   "version": "3.8.8"
  }
 },
 "nbformat": 4,
 "nbformat_minor": 5
}
