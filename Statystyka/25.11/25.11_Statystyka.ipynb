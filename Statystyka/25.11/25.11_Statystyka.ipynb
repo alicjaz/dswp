{
 "cells": [
  {
   "cell_type": "markdown",
   "id": "66ec2cf0",
   "metadata": {},
   "source": [
    "<h1>Zadanie 1</h1>"
   ]
  },
  {
   "cell_type": "code",
   "execution_count": 5,
   "id": "fb4d6abf",
   "metadata": {},
   "outputs": [],
   "source": [
    "import scipy.stats as scs\n",
    "\n",
    "norm_generated = scs.norm.rvs(loc=2, scale=30, size=200)"
   ]
  },
  {
   "cell_type": "code",
   "execution_count": 3,
   "id": "95d4ca94",
   "metadata": {},
   "outputs": [
    {
     "data": {
      "text/plain": [
       "array([  3.89481989,  70.05961387, -18.85022448,  34.69147258,\n",
       "        51.33906227, -11.56075708,  -5.59875339, -18.49369616,\n",
       "        84.31759223,  11.28961825,  34.34803651,  14.24605022,\n",
       "        41.38893006,   3.33022853,  45.37791104, -17.0206081 ,\n",
       "       -14.81434884,  -9.97598183,  36.62884071,   0.94911997,\n",
       "       -40.40396072, -24.576095  ,   2.06346788,   5.07635637,\n",
       "        -9.48321283, -35.24562269,  17.47072409,  25.17000688,\n",
       "       -34.99702312, -43.82270838, -25.35372511, -56.96246942,\n",
       "         2.48920305,  32.28114049,  13.60947127, -26.02162515,\n",
       "       -11.80572578,  28.92036888,   0.20168368, -16.09809554,\n",
       "        41.02635396,   4.22832793,  -7.81046684, -30.83442901,\n",
       "        29.5500008 ,  11.98215593, -17.39275612, -59.2308442 ,\n",
       "        22.22921149,  30.7763853 , -19.14408951,  35.5030419 ,\n",
       "       -30.6908223 , -18.96049402,  34.34737901, -30.14192791,\n",
       "       -11.31711718,  30.69725692,  21.01732801,  37.60254364,\n",
       "        34.01624147,  -5.30715814,  50.04241247, -29.04636483,\n",
       "       -11.43965556,   6.31553025,  25.26895545,  32.24257743,\n",
       "        -3.33591958,  -7.3893719 , -57.95345146,  37.1722595 ,\n",
       "        10.97531638, -19.99844344,   7.3464036 ,  19.33797533,\n",
       "        29.83162486,  72.76646638, -43.38108506, -22.48004647,\n",
       "       -15.98752349,  27.23756741,  41.24704388,   3.52375093,\n",
       "        -8.87688754,  30.75864872, -35.09900336, -17.19980376,\n",
       "       -28.57884951,  31.70647686, -22.51447779, -39.71038087,\n",
       "       -33.18375906,   1.83960081,  -9.72178011, -37.99687202,\n",
       "        30.22598373,  -4.05785531,  17.27127794,  19.98836155,\n",
       "        14.1785586 ,   8.52566842, -10.1120664 , -39.72056982,\n",
       "         0.65247031,  46.36148004, -48.45457256,  52.36003126,\n",
       "       -37.96611659, -19.52387182,  -2.62376031,  16.17625118,\n",
       "       -57.07963694,  -6.73259279, -46.1256522 , -16.66028891,\n",
       "        12.24314761,  16.55936955,   0.33846966, -25.66093584,\n",
       "        31.21549696, -12.83001211, -13.3598025 ,  67.30915597,\n",
       "         8.30728418, -59.17765603,  10.61906713,  26.92751676,\n",
       "         4.56656866,  10.66903927, -26.90609298,   1.42455443,\n",
       "       -18.79194708,   9.37805788,  34.36282712,  -8.44802656,\n",
       "        13.62223111,  -8.61657418, -53.37825867, -16.83565705,\n",
       "        31.31842453,  38.37984847,  26.25214425,  20.88666552,\n",
       "         8.89083188,   3.07917219, -13.36920343, -68.74423806,\n",
       "       -33.46579687,  49.47441436, -60.49760926, -49.3127718 ,\n",
       "       -19.57743837,  15.43330403,  46.65401529, -43.21585092,\n",
       "       -26.51551143, -11.52101274,  13.4718715 ,   6.22896097,\n",
       "       -33.00090565, -17.0880414 ,  41.21456433,  -4.21097641,\n",
       "         3.10495524,   0.78245336,  26.5645198 , -18.38924882,\n",
       "        -8.64234487, -18.72517016,   6.2147921 ,  27.68210262,\n",
       "       -45.48667095,  13.77965412, -47.50101409, -53.88397564,\n",
       "        35.93607902, -20.28769698, -22.56999764,  35.09511473,\n",
       "        -8.2836644 , -12.94318902,  48.15152424, -40.26964838,\n",
       "         1.85111949, -59.5220689 , -13.9085362 ,  46.87589749,\n",
       "        68.01637934,  20.62720862, -18.45673164, -10.18780222,\n",
       "        -5.87297448,   1.52577291,  69.74888506,  11.56227519,\n",
       "        19.27136151,  -3.63564148,  26.90532518, -22.1962895 ])"
      ]
     },
     "execution_count": 3,
     "metadata": {},
     "output_type": "execute_result"
    }
   ],
   "source": [
    "norm_generated"
   ]
  },
  {
   "cell_type": "code",
   "execution_count": 12,
   "id": "b423ee40",
   "metadata": {},
   "outputs": [],
   "source": [
    "results = scs.ttest_1samp(norm_generated,2.5)"
   ]
  },
  {
   "cell_type": "code",
   "execution_count": 13,
   "id": "5c5d6f63",
   "metadata": {},
   "outputs": [
    {
     "data": {
      "text/plain": [
       "Ttest_1sampResult(statistic=-0.1265388457383682, pvalue=0.8994331617814596)"
      ]
     },
     "execution_count": 13,
     "metadata": {},
     "output_type": "execute_result"
    }
   ],
   "source": [
    "results"
   ]
  },
  {
   "cell_type": "markdown",
   "id": "b0f7dd13",
   "metadata": {},
   "source": [
    "<h1>Zadanie 2</h1>"
   ]
  },
  {
   "cell_type": "code",
   "execution_count": 17,
   "id": "1c3258e5",
   "metadata": {},
   "outputs": [],
   "source": [
    "import pandas as pd"
   ]
  },
  {
   "cell_type": "code",
   "execution_count": 26,
   "id": "b9777225",
   "metadata": {},
   "outputs": [],
   "source": [
    "napoje_data = pd.read_csv (r'napoje.csv', sep=\";\", na_values=\".\")"
   ]
  },
  {
   "cell_type": "code",
   "execution_count": 27,
   "id": "ebfd2740",
   "metadata": {},
   "outputs": [
    {
     "data": {
      "text/html": [
       "<div>\n",
       "<style scoped>\n",
       "    .dataframe tbody tr th:only-of-type {\n",
       "        vertical-align: middle;\n",
       "    }\n",
       "\n",
       "    .dataframe tbody tr th {\n",
       "        vertical-align: top;\n",
       "    }\n",
       "\n",
       "    .dataframe thead th {\n",
       "        text-align: right;\n",
       "    }\n",
       "</style>\n",
       "<table border=\"1\" class=\"dataframe\">\n",
       "  <thead>\n",
       "    <tr style=\"text-align: right;\">\n",
       "      <th></th>\n",
       "      <th>mies</th>\n",
       "      <th>rok</th>\n",
       "      <th>pepsi</th>\n",
       "      <th>fanta</th>\n",
       "      <th>żywiec</th>\n",
       "      <th>okocim</th>\n",
       "      <th>regionalne</th>\n",
       "      <th>cola</th>\n",
       "      <th>lech</th>\n",
       "    </tr>\n",
       "  </thead>\n",
       "  <tbody>\n",
       "    <tr>\n",
       "      <th>0</th>\n",
       "      <td>1</td>\n",
       "      <td>2001</td>\n",
       "      <td>108447</td>\n",
       "      <td>43302</td>\n",
       "      <td>186385</td>\n",
       "      <td>54301</td>\n",
       "      <td>45065</td>\n",
       "      <td>227013</td>\n",
       "      <td>56306</td>\n",
       "    </tr>\n",
       "    <tr>\n",
       "      <th>1</th>\n",
       "      <td>2</td>\n",
       "      <td>2001</td>\n",
       "      <td>105439</td>\n",
       "      <td>46711</td>\n",
       "      <td>168782</td>\n",
       "      <td>68131</td>\n",
       "      <td>43933</td>\n",
       "      <td>221115</td>\n",
       "      <td>67212</td>\n",
       "    </tr>\n",
       "    <tr>\n",
       "      <th>2</th>\n",
       "      <td>3</td>\n",
       "      <td>2001</td>\n",
       "      <td>111675</td>\n",
       "      <td>36029</td>\n",
       "      <td>172186</td>\n",
       "      <td>63104</td>\n",
       "      <td>46663</td>\n",
       "      <td>222812</td>\n",
       "      <td>67398</td>\n",
       "    </tr>\n",
       "    <tr>\n",
       "      <th>3</th>\n",
       "      <td>4</td>\n",
       "      <td>2001</td>\n",
       "      <td>113232</td>\n",
       "      <td>33659</td>\n",
       "      <td>172445</td>\n",
       "      <td>50871</td>\n",
       "      <td>45195</td>\n",
       "      <td>238631</td>\n",
       "      <td>57100</td>\n",
       "    </tr>\n",
       "    <tr>\n",
       "      <th>4</th>\n",
       "      <td>5</td>\n",
       "      <td>2001</td>\n",
       "      <td>110274</td>\n",
       "      <td>40853</td>\n",
       "      <td>174526</td>\n",
       "      <td>67924</td>\n",
       "      <td>47926</td>\n",
       "      <td>222963</td>\n",
       "      <td>65001</td>\n",
       "    </tr>\n",
       "    <tr>\n",
       "      <th>...</th>\n",
       "      <td>...</td>\n",
       "      <td>...</td>\n",
       "      <td>...</td>\n",
       "      <td>...</td>\n",
       "      <td>...</td>\n",
       "      <td>...</td>\n",
       "      <td>...</td>\n",
       "      <td>...</td>\n",
       "      <td>...</td>\n",
       "    </tr>\n",
       "    <tr>\n",
       "      <th>187</th>\n",
       "      <td>8</td>\n",
       "      <td>2016</td>\n",
       "      <td>105949</td>\n",
       "      <td>43017</td>\n",
       "      <td>169329</td>\n",
       "      <td>64262</td>\n",
       "      <td>58101</td>\n",
       "      <td>222531</td>\n",
       "      <td>58037</td>\n",
       "    </tr>\n",
       "    <tr>\n",
       "      <th>188</th>\n",
       "      <td>9</td>\n",
       "      <td>2016</td>\n",
       "      <td>103420</td>\n",
       "      <td>44310</td>\n",
       "      <td>173923</td>\n",
       "      <td>67591</td>\n",
       "      <td>44565</td>\n",
       "      <td>230270</td>\n",
       "      <td>65156</td>\n",
       "    </tr>\n",
       "    <tr>\n",
       "      <th>189</th>\n",
       "      <td>10</td>\n",
       "      <td>2016</td>\n",
       "      <td>120363</td>\n",
       "      <td>50688</td>\n",
       "      <td>175856</td>\n",
       "      <td>63791</td>\n",
       "      <td>51376</td>\n",
       "      <td>247155</td>\n",
       "      <td>59276</td>\n",
       "    </tr>\n",
       "    <tr>\n",
       "      <th>190</th>\n",
       "      <td>11</td>\n",
       "      <td>2016</td>\n",
       "      <td>101215</td>\n",
       "      <td>41924</td>\n",
       "      <td>175914</td>\n",
       "      <td>62570</td>\n",
       "      <td>59505</td>\n",
       "      <td>240524</td>\n",
       "      <td>61765</td>\n",
       "    </tr>\n",
       "    <tr>\n",
       "      <th>191</th>\n",
       "      <td>12</td>\n",
       "      <td>2016</td>\n",
       "      <td>114300</td>\n",
       "      <td>42314</td>\n",
       "      <td>178209</td>\n",
       "      <td>65923</td>\n",
       "      <td>58508</td>\n",
       "      <td>223129</td>\n",
       "      <td>68106</td>\n",
       "    </tr>\n",
       "  </tbody>\n",
       "</table>\n",
       "<p>192 rows × 9 columns</p>\n",
       "</div>"
      ],
      "text/plain": [
       "     mies   rok   pepsi  fanta   żywiec  okocim  regionalne    cola   lech\n",
       "0       1  2001  108447   43302  186385   54301       45065  227013  56306\n",
       "1       2  2001  105439   46711  168782   68131       43933  221115  67212\n",
       "2       3  2001  111675   36029  172186   63104       46663  222812  67398\n",
       "3       4  2001  113232   33659  172445   50871       45195  238631  57100\n",
       "4       5  2001  110274   40853  174526   67924       47926  222963  65001\n",
       "..    ...   ...     ...     ...     ...     ...         ...     ...    ...\n",
       "187     8  2016  105949   43017  169329   64262       58101  222531  58037\n",
       "188     9  2016  103420   44310  173923   67591       44565  230270  65156\n",
       "189    10  2016  120363   50688  175856   63791       51376  247155  59276\n",
       "190    11  2016  101215   41924  175914   62570       59505  240524  61765\n",
       "191    12  2016  114300   42314  178209   65923       58508  223129  68106\n",
       "\n",
       "[192 rows x 9 columns]"
      ]
     },
     "execution_count": 27,
     "metadata": {},
     "output_type": "execute_result"
    }
   ],
   "source": [
    "napoje_data"
   ]
  },
  {
   "cell_type": "code",
   "execution_count": 37,
   "id": "774d3db0",
   "metadata": {},
   "outputs": [
    {
     "name": "stdout",
     "output_type": "stream",
     "text": [
      "mozna odrzucic H0\n"
     ]
    }
   ],
   "source": [
    "#2\n",
    "lech=napoje_data['lech']\n",
    "cola=napoje_data['cola']\n",
    "regio=napoje_data['regionalne']\n",
    "lechkresult=scs.ttest_1samp(leszek,60500)\n",
    "colaresult=scs.ttest_1samp(kola,222000)\n",
    "regioresult=scs.ttest_1samp(regio,43500)\n",
    "if regioresult[1] > 0.5 and colaresult[1]>0.5 and lechkresult[1]>0.5:\n",
    "    print(\"nie ma podstaw do odrzucenia H0\")\n",
    "else:\n",
    "    print(\"mozna odrzucic H0\")"
   ]
  },
  {
   "cell_type": "markdown",
   "id": "6ed69927",
   "metadata": {},
   "source": [
    "<h1>Zadanie 3</h1>"
   ]
  },
  {
   "cell_type": "code",
   "execution_count": 47,
   "id": "d3fa6ee8",
   "metadata": {},
   "outputs": [],
   "source": [
    "test_results_cola = scs.normaltest(napoje_data['cola'])\n",
    "test_results_pepsi = scs.normaltest(napoje_data['pepsi'])\n",
    "test_results_fanta = scs.normaltest(napoje_data['fanta '])\n",
    "test_results_zywiec = scs.normaltest(napoje_data['żywiec'])\n",
    "test_results_okocim = scs.normaltest(napoje_data['okocim'])\n",
    "test_results_regionalne = scs.normaltest(napoje_data['regionalne'])\n",
    "test_results_lech = scs.normaltest(napoje_data['lech'])"
   ]
  },
  {
   "cell_type": "code",
   "execution_count": 39,
   "id": "feb63fcf",
   "metadata": {},
   "outputs": [
    {
     "data": {
      "text/plain": [
       "NormaltestResult(statistic=1.2477254872820727, pvalue=0.5358705042542622)"
      ]
     },
     "execution_count": 39,
     "metadata": {},
     "output_type": "execute_result"
    }
   ],
   "source": [
    "test_results_cola"
   ]
  },
  {
   "cell_type": "code",
   "execution_count": 43,
   "id": "4c5cf6f9",
   "metadata": {},
   "outputs": [
    {
     "data": {
      "text/plain": [
       "NormaltestResult(statistic=0.656990879516711, pvalue=0.7200062116206445)"
      ]
     },
     "execution_count": 43,
     "metadata": {},
     "output_type": "execute_result"
    }
   ],
   "source": [
    "test_results_pepsi"
   ]
  },
  {
   "cell_type": "code",
   "execution_count": 44,
   "id": "93fd7ef4",
   "metadata": {},
   "outputs": [
    {
     "data": {
      "text/plain": [
       "NormaltestResult(statistic=4.135690287488807, pvalue=0.12645798710253495)"
      ]
     },
     "execution_count": 44,
     "metadata": {},
     "output_type": "execute_result"
    }
   ],
   "source": [
    "test_results_okocim"
   ]
  },
  {
   "cell_type": "code",
   "execution_count": 45,
   "id": "4dbc7415",
   "metadata": {},
   "outputs": [
    {
     "data": {
      "text/plain": [
       "NormaltestResult(statistic=30.234035074691608, pvalue=2.721214025437686e-07)"
      ]
     },
     "execution_count": 45,
     "metadata": {},
     "output_type": "execute_result"
    }
   ],
   "source": [
    "test_results_regionalne"
   ]
  },
  {
   "cell_type": "code",
   "execution_count": 46,
   "id": "86671713",
   "metadata": {},
   "outputs": [
    {
     "data": {
      "text/plain": [
       "NormaltestResult(statistic=1.4964681294339097, pvalue=0.4732014584808095)"
      ]
     },
     "execution_count": 46,
     "metadata": {},
     "output_type": "execute_result"
    }
   ],
   "source": [
    "test_results_lech"
   ]
  },
  {
   "cell_type": "code",
   "execution_count": 48,
   "id": "a072a533",
   "metadata": {},
   "outputs": [
    {
     "data": {
      "text/plain": [
       "NormaltestResult(statistic=3.4000466215098877, pvalue=0.1826792656115071)"
      ]
     },
     "execution_count": 48,
     "metadata": {},
     "output_type": "execute_result"
    }
   ],
   "source": [
    "test_results_fanta"
   ]
  },
  {
   "cell_type": "code",
   "execution_count": 50,
   "id": "9f6b3a10",
   "metadata": {},
   "outputs": [
    {
     "data": {
      "text/plain": [
       "NormaltestResult(statistic=2.156175541501711, pvalue=0.34024553142391856)"
      ]
     },
     "execution_count": 50,
     "metadata": {},
     "output_type": "execute_result"
    }
   ],
   "source": [
    "test_results_zywiec"
   ]
  },
  {
   "cell_type": "markdown",
   "id": "5eb57ac9",
   "metadata": {},
   "source": [
    "<b>Regionalne ma pval > 0.055, Not normal distribution</b>"
   ]
  },
  {
   "cell_type": "markdown",
   "id": "1d2eaf94",
   "metadata": {},
   "source": [
    "<h1>Zadanie 4</h1>"
   ]
  },
  {
   "cell_type": "code",
   "execution_count": 53,
   "id": "857c8dba",
   "metadata": {},
   "outputs": [
    {
     "name": "stdout",
     "output_type": "stream",
     "text": [
      "Result cola-pepsi:  Ttest_indResult(statistic=-145.61815604546564, pvalue=0.0)\n",
      "Results okocim-lech:  Ttest_indResult(statistic=-0.8323919685480173, pvalue=0.4057078093583595)\n",
      "Results fanta-regionalne:  Ttest_indResult(statistic=-11.013919429372727, pvalue=1.097001288015355e-24)\n"
     ]
    }
   ],
   "source": [
    "import pandas\n",
    "import scipy.stats as scs\n",
    "data = pandas.read_csv('napoje.csv', sep=';', na_values='.')\n",
    "cola = data['cola']\n",
    "pepsi = data['pepsi']\n",
    "okocim = data['okocim']\n",
    "lech=data['lech']\n",
    "region = data['regionalne']\n",
    "fanta = data['fanta ']\n",
    "\n",
    "\n",
    "results1 = scs.ttest_ind(pepsi, cola)\n",
    "results2 = scs.ttest_ind(fanta, region)\n",
    "results3 = scs.ttest_ind(okocim, lech)\n",
    "\n",
    "print(\"Result cola-pepsi: \", results1)\n",
    "print(\"Results okocim-lech: \", results3)\n",
    "print(\"Results fanta-regionalne: \", results2)"
   ]
  },
  {
   "cell_type": "markdown",
   "id": "52760db4",
   "metadata": {},
   "source": [
    "<h1>Zadanie 5</h1>"
   ]
  },
  {
   "cell_type": "code",
   "execution_count": 56,
   "id": "2b8d7660",
   "metadata": {},
   "outputs": [],
   "source": [
    "zywiec = data['żywiec']\n",
    "regionalne = data['regionalne']\n",
    "results1 = scs.bartlett(okocim, lech)\n",
    "results2 = scs.bartlett(zywiec, fanta)\n",
    "results3 = scs.bartlett(regionalne, cola)"
   ]
  },
  {
   "cell_type": "code",
   "execution_count": 57,
   "id": "d590f3f4",
   "metadata": {},
   "outputs": [
    {
     "name": "stdout",
     "output_type": "stream",
     "text": [
      "BartlettResult(statistic=0.5885730279833224, pvalue=0.442971451029742)\n",
      "BartlettResult(statistic=2.531635763972335, pvalue=0.11158448782952231)\n",
      "BartlettResult(statistic=121.19645410278127, pvalue=3.4610443460281524e-28)\n"
     ]
    }
   ],
   "source": [
    "print(results1)\n",
    "print(results2)\n",
    "print(results3)"
   ]
  },
  {
   "cell_type": "markdown",
   "id": "5f5f9f9e",
   "metadata": {},
   "source": [
    "<h1>Zadanie 6</h1>"
   ]
  },
  {
   "cell_type": "code",
   "execution_count": 83,
   "id": "b404d666",
   "metadata": {},
   "outputs": [
    {
     "name": "stdout",
     "output_type": "stream",
     "text": [
      "Ttest_indResult(statistic=3.597778058271827, pvalue=0.0016000242362201897)\n"
     ]
    }
   ],
   "source": [
    "import pandas\n",
    "import scipy.stats as scs\n",
    "\n",
    "data = pandas.read_csv('napoje.csv', sep=';', na_values='.')\n",
    "\n",
    "\n",
    "is2015 = data['rok']==2015\n",
    "is2015_2 = data[is2015]\n",
    "region1= is2015_2['regionalne']\n",
    "\n",
    "is2001 = data['rok'] == 2001\n",
    "is2001_2 = data[is2001]\n",
    "region2 = is2001_2['regionalne']\n",
    "\n",
    "\n",
    "results = scs.ttest_ind(region1, region2)\n",
    "print(results)"
   ]
  },
  {
   "cell_type": "markdown",
   "id": "5b29c847",
   "metadata": {},
   "source": [
    "<h1>Zadanie7<h1>"
   ]
  },
  {
   "cell_type": "code",
   "execution_count": 101,
   "id": "11e69b89",
   "metadata": {},
   "outputs": [
    {
     "name": "stdout",
     "output_type": "stream",
     "text": [
      "Cola:  Ttest_indResult(statistic=0.10798149036207133, pvalue=0.9149891371193664)\n",
      "Fanta:  Ttest_indResult(statistic=0.3598065023236486, pvalue=0.7224227941384667)\n",
      "Ttest_indResult(statistic=-0.21470682659185084, pvalue=0.8319736561113473)\n"
     ]
    }
   ],
   "source": [
    "import pandas\n",
    "import scipy.stats as scs\n",
    "\n",
    "data = pandas.read_csv('napoje.csv', sep=';', na_values='.')\n",
    "data2 = pandas.read_csv('napoje_po_reklamie.csv', sep=';', na_values='.')\n",
    "\n",
    "\n",
    "is2016 = data['rok']==2016\n",
    "is2016_2 = data[is2016]\n",
    "cola= is2016_2['cola']\n",
    "\n",
    "is2016 = data['rok']==2016\n",
    "is2016_2 = data[is2016]\n",
    "fanta= is2016_2['fanta ']\n",
    "\n",
    "is2016 = data['rok']==2016\n",
    "is2016_2 = data[is2016]\n",
    "pepsi= is2016_2['pepsi']\n",
    "\n",
    "\n",
    "results = scs.ttest_ind(cola, data2['cola'])\n",
    "print(\"Cola: \", results)\n",
    "results2 = scs.ttest_ind(fanta, data2['fanta '])\n",
    "print(\"Fanta: \", results2)\n",
    "results3 = scs.ttest_ind(pepsi, data2['pepsi'])\n",
    "print(results3)"
   ]
  }
 ],
 "metadata": {
  "kernelspec": {
   "display_name": "Python 3 (ipykernel)",
   "language": "python",
   "name": "python3"
  },
  "language_info": {
   "codemirror_mode": {
    "name": "ipython",
    "version": 3
   },
   "file_extension": ".py",
   "mimetype": "text/x-python",
   "name": "python",
   "nbconvert_exporter": "python",
   "pygments_lexer": "ipython3",
   "version": "3.8.8"
  }
 },
 "nbformat": 4,
 "nbformat_minor": 5
}
